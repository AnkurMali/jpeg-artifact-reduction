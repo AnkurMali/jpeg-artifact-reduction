{
 "cells": [
  {
   "cell_type": "code",
   "execution_count": 1,
   "metadata": {
    "collapsed": true
   },
   "outputs": [],
   "source": [
    "%matplotlib inline\n",
    "from __future__ import division\n",
    "import numpy as np\n",
    "import matplotlib.pyplot as plt\n",
    "import cv2\n",
    "from glob import glob\n"
   ]
  },
  {
   "cell_type": "code",
   "execution_count": 2,
   "metadata": {
    "collapsed": true
   },
   "outputs": [],
   "source": [
    "image = cv2.imread('../images/kitty-cat.jpg', 0)"
   ]
  },
  {
   "cell_type": "code",
   "execution_count": 3,
   "metadata": {
    "collapsed": false
   },
   "outputs": [
    {
     "name": "stderr",
     "output_type": "stream",
     "text": [
      "Using Theano backend.\n",
      "DEBUG: nvcc STDOUT nvcc warning : The 'compute_20', 'sm_20', and 'sm_21' architectures are deprecated, and may be removed in a future release (Use -Wno-deprecated-gpu-targets to suppress warning).\n",
      "mod.cu\n",
      "   Creating library C:/Users/Guido/AppData/Local/Theano/compiledir_Windows-10-10.0.14393-Intel64_Family_6_Model_60_Stepping_3_GenuineIntel-2.7.12-64/tmplpn8da/265abc51f7c376c224983485238ff1a5.lib and object C:/Users/Guido/AppData/Local/Theano/compiledir_Windows-10-10.0.14393-Intel64_Family_6_Model_60_Stepping_3_GenuineIntel-2.7.12-64/tmplpn8da/265abc51f7c376c224983485238ff1a5.exp\n",
      "\n",
      "Using gpu device 0: GeForce GTX 1080 (CNMeM is disabled, cuDNN 5105)\n",
      "C:\\Anaconda2\\lib\\site-packages\\theano\\sandbox\\cuda\\__init__.py:600: UserWarning: Your cuDNN version is more recent than the one Theano officially supports. If you see any problems, try updating Theano or downgrading cuDNN to version 5.\n",
      "  warnings.warn(warn)\n"
     ]
    }
   ],
   "source": [
    "from keras.models import Model\n",
    "from keras.layers import Input, merge, Convolution2D, MaxPooling2D, UpSampling2D\n",
    "from keras.optimizers import Adam, SGD\n",
    "from keras.callbacks import ModelCheckpoint, LearningRateScheduler\n",
    "from keras import backend as K\n",
    "K.set_image_dim_ordering('th')"
   ]
  },
  {
   "cell_type": "code",
   "execution_count": 39,
   "metadata": {
    "collapsed": false
   },
   "outputs": [
    {
     "data": {
      "text/plain": [
       "(64L, 1L, 1L)"
      ]
     },
     "execution_count": 39,
     "metadata": {},
     "output_type": "execute_result"
    }
   ],
   "source": [
    "def onehot_weights():\n",
    "    patcher_weights = np.zeros((64,8,8), dtype=np.float32)\n",
    "    for x in range(64):\n",
    "        patcher_weights[x, x//8, x%8] = 1.\n",
    "        \n",
    "from numpy import empty,arange,exp,real,imag,pi\n",
    "from numpy.fft import rfft,irfft\n",
    "        \n",
    "def dct(y):\n",
    "    N = len(y)\n",
    "    y2 = empty(2*N,float)\n",
    "    y2[:N] = y[:]\n",
    "    y2[N:] = y[::-1]\n",
    "\n",
    "    c = rfft(y2)\n",
    "    phi = exp(-1j*pi*arange(N)/(2*N))\n",
    "    return real(phi*c[:N])\n",
    "        \n",
    "def dct_weights():\n",
    "    return np.expand_dims(np.expand_dims(np.array(dct(np.zeros(64)), dtype=np.float32), axis=1), axis=1)\n",
    "\n",
    "def dct_layer(in_layer):\n",
    "    patcher = Convolution2D(64, 8, 8, border_mode='same', \n",
    "                            weights=onehot_weights(), \n",
    "                            trainable=False, \n",
    "                            subsample=(8,8))(in_layer)\n",
    "    dct = Convolution2D(64, 1, 1, border_mode='same', \n",
    "                            weights=dct_weights(), \n",
    "                            trainable=False, )(patcher)\n",
    "    \n",
    "    \n",
    "dct_weights().shape"
   ]
  },
  {
   "cell_type": "code",
   "execution_count": 40,
   "metadata": {
    "collapsed": false,
    "scrolled": true
   },
   "outputs": [
    {
     "data": {
      "image/png": "[encoded data removed]",
      "text/plain": [
       "<matplotlib.figure.Figure at 0x288b2fd0>"
      ]
     },
     "metadata": {},
     "output_type": "display_data"
    },
    {
     "data": {
      "image/png": "[encoded data removed]",
      "text/plain": [
       "<matplotlib.figure.Figure at 0x26c29048>"
      ]
     },
     "metadata": {},
     "output_type": "display_data"
    }
   ],
   "source": [
    "plt.imshow(patcher_weights[0], interpolation='nearest')\n",
    "plt.show()\n",
    "plt.imshow(patcher_weights[31], interpolation='nearest')\n",
    "plt.show()"
   ]
  },
  {
   "cell_type": "code",
   "execution_count": 41,
   "metadata": {
    "collapsed": false
   },
   "outputs": [
    {
     "ename": "Exception",
     "evalue": "You called `set_weights(weights)` on layer \"convolution2d_11\" with a  weight list of length 64, but the layer was expecting 2 weights. Provided weights: [[[ 0.]]\n\n [[ 0.]]\n\n [[ 0.]]\n\n [[ 0.]]\n\n [[ 0.]]\n\n [[ 0.]]\n\n [[ 0.]]\n\n [[ 0.]]\n\n [[ 0.]]\n\n [[ 0.]]\n\n [[ 0.]]\n\n [[ 0.]]\n\n [[ 0.]]\n\n [[ 0.]]\n\n [[ 0.]]\n\n [[ 0.]]\n\n [[ 0.]]\n\n [[ 0.]]\n\n [[ 0.]]\n\n [[ 0.]]\n\n [[ 0.]]\n\n [[ 0.]]\n\n [[ 0.]]\n\n [[ 0.]]\n\n [[ 0.]]\n\n [[ 0.]]\n\n [[ 0.]]\n\n [[ 0.]]\n\n [[ 0.]]\n\n [[ 0.]]\n\n [[ 0.]]\n\n [[ 0.]]\n\n [[ 0.]]\n\n [[ 0.]]\n\n [[ 0.]]\n\n [[ 0.]]\n\n [[ 0.]]\n\n [[ 0.]]\n\n [[ 0.]]\n\n [[ 0.]]\n\n [[ 0.]]\n\n [[ 0.]]\n\n [[ 0.]]\n\n [[ 0.]]\n\n [[ 0.]]\n\n [[ 0.]]\n\n [[ 0.]]\n\n [[ 0.]]\n\n [[ 0.]]\n\n [[ 0.]]\n\n [[ 0.]]\n\n [[ 0.]]\n\n [[ 0.]]\n\n [[ 0.]]\n\n [[ 0.]]\n\n [[ 0.]]\n\n [[ 0.]]\n\n [[ 0.]]\n\n [[ 0.]]\n\n [[ 0.]]\n\n [[ 0.]]\n\n [[ 0.]]\n\n [[ 0.]]\n\n [[ 0.]]]",
     "output_type": "error",
     "traceback": [
      "\u001b[1;31m---------------------------------------------------------------------------\u001b[0m",
      "\u001b[1;31mException\u001b[0m                                 Traceback (most recent call last)",
      "\u001b[1;32m<ipython-input-41-d86d2667a52f>\u001b[0m in \u001b[0;36m<module>\u001b[1;34m()\u001b[0m\n\u001b[0;32m      1\u001b[0m \u001b[0minputs\u001b[0m \u001b[1;33m=\u001b[0m \u001b[0mInput\u001b[0m\u001b[1;33m(\u001b[0m\u001b[1;33m(\u001b[0m\u001b[1;36m1\u001b[0m\u001b[1;33m,\u001b[0m \u001b[1;36m64\u001b[0m\u001b[1;33m,\u001b[0m \u001b[1;36m64\u001b[0m\u001b[1;33m)\u001b[0m\u001b[1;33m)\u001b[0m\u001b[1;33m\u001b[0m\u001b[0m\n\u001b[1;32m----> 2\u001b[1;33m \u001b[0mdct_layer\u001b[0m\u001b[1;33m(\u001b[0m\u001b[0minputs\u001b[0m\u001b[1;33m)\u001b[0m\u001b[1;33m\u001b[0m\u001b[0m\n\u001b[0m",
      "\u001b[1;32m<ipython-input-39-afb748256e26>\u001b[0m in \u001b[0;36mdct_layer\u001b[1;34m(in_layer)\u001b[0m\n\u001b[0;32m     27\u001b[0m     dct = Convolution2D(64, 1, 1, border_mode='same', \n\u001b[0;32m     28\u001b[0m                             \u001b[0mweights\u001b[0m\u001b[1;33m=\u001b[0m\u001b[0mdct_weights\u001b[0m\u001b[1;33m(\u001b[0m\u001b[1;33m)\u001b[0m\u001b[1;33m,\u001b[0m\u001b[1;33m\u001b[0m\u001b[0m\n\u001b[1;32m---> 29\u001b[1;33m                             trainable=False, )(patcher)\n\u001b[0m\u001b[0;32m     30\u001b[0m \u001b[1;33m\u001b[0m\u001b[0m\n\u001b[0;32m     31\u001b[0m \u001b[1;33m\u001b[0m\u001b[0m\n",
      "\u001b[1;32mC:\\Anaconda2\\lib\\site-packages\\keras\\engine\\topology.pyc\u001b[0m in \u001b[0;36m__call__\u001b[1;34m(self, x, mask)\u001b[0m\n\u001b[0;32m    456\u001b[0m                                     '`layer.build(batch_input_shape)`')\n\u001b[0;32m    457\u001b[0m             \u001b[1;32mif\u001b[0m \u001b[0mlen\u001b[0m\u001b[1;33m(\u001b[0m\u001b[0minput_shapes\u001b[0m\u001b[1;33m)\u001b[0m \u001b[1;33m==\u001b[0m \u001b[1;36m1\u001b[0m\u001b[1;33m:\u001b[0m\u001b[1;33m\u001b[0m\u001b[0m\n\u001b[1;32m--> 458\u001b[1;33m                 \u001b[0mself\u001b[0m\u001b[1;33m.\u001b[0m\u001b[0mbuild\u001b[0m\u001b[1;33m(\u001b[0m\u001b[0minput_shapes\u001b[0m\u001b[1;33m[\u001b[0m\u001b[1;36m0\u001b[0m\u001b[1;33m]\u001b[0m\u001b[1;33m)\u001b[0m\u001b[1;33m\u001b[0m\u001b[0m\n\u001b[0m\u001b[0;32m    459\u001b[0m             \u001b[1;32melse\u001b[0m\u001b[1;33m:\u001b[0m\u001b[1;33m\u001b[0m\u001b[0m\n\u001b[0;32m    460\u001b[0m                 \u001b[0mself\u001b[0m\u001b[1;33m.\u001b[0m\u001b[0mbuild\u001b[0m\u001b[1;33m(\u001b[0m\u001b[0minput_shapes\u001b[0m\u001b[1;33m)\u001b[0m\u001b[1;33m\u001b[0m\u001b[0m\n",
      "\u001b[1;32mC:\\Anaconda2\\lib\\site-packages\\keras\\layers\\convolutional.pyc\u001b[0m in \u001b[0;36mbuild\u001b[1;34m(self, input_shape)\u001b[0m\n\u001b[0;32m    321\u001b[0m \u001b[1;33m\u001b[0m\u001b[0m\n\u001b[0;32m    322\u001b[0m         \u001b[1;32mif\u001b[0m \u001b[0mself\u001b[0m\u001b[1;33m.\u001b[0m\u001b[0minitial_weights\u001b[0m \u001b[1;32mis\u001b[0m \u001b[1;32mnot\u001b[0m \u001b[0mNone\u001b[0m\u001b[1;33m:\u001b[0m\u001b[1;33m\u001b[0m\u001b[0m\n\u001b[1;32m--> 323\u001b[1;33m             \u001b[0mself\u001b[0m\u001b[1;33m.\u001b[0m\u001b[0mset_weights\u001b[0m\u001b[1;33m(\u001b[0m\u001b[0mself\u001b[0m\u001b[1;33m.\u001b[0m\u001b[0minitial_weights\u001b[0m\u001b[1;33m)\u001b[0m\u001b[1;33m\u001b[0m\u001b[0m\n\u001b[0m\u001b[0;32m    324\u001b[0m             \u001b[1;32mdel\u001b[0m \u001b[0mself\u001b[0m\u001b[1;33m.\u001b[0m\u001b[0minitial_weights\u001b[0m\u001b[1;33m\u001b[0m\u001b[0m\n\u001b[0;32m    325\u001b[0m \u001b[1;33m\u001b[0m\u001b[0m\n",
      "\u001b[1;32mC:\\Anaconda2\\lib\\site-packages\\keras\\engine\\topology.pyc\u001b[0m in \u001b[0;36mset_weights\u001b[1;34m(self, weights)\u001b[0m\n\u001b[0;32m    844\u001b[0m                             \u001b[1;34m'\" with a  weight list of length '\u001b[0m \u001b[1;33m+\u001b[0m \u001b[0mstr\u001b[0m\u001b[1;33m(\u001b[0m\u001b[0mlen\u001b[0m\u001b[1;33m(\u001b[0m\u001b[0mweights\u001b[0m\u001b[1;33m)\u001b[0m\u001b[1;33m)\u001b[0m \u001b[1;33m+\u001b[0m\u001b[1;33m\u001b[0m\u001b[0m\n\u001b[0;32m    845\u001b[0m                             \u001b[1;34m', but the layer was expecting '\u001b[0m \u001b[1;33m+\u001b[0m \u001b[0mstr\u001b[0m\u001b[1;33m(\u001b[0m\u001b[0mlen\u001b[0m\u001b[1;33m(\u001b[0m\u001b[0mparams\u001b[0m\u001b[1;33m)\u001b[0m\u001b[1;33m)\u001b[0m \u001b[1;33m+\u001b[0m\u001b[1;33m\u001b[0m\u001b[0m\n\u001b[1;32m--> 846\u001b[1;33m                             ' weights. Provided weights: ' + str(weights))\n\u001b[0m\u001b[0;32m    847\u001b[0m         \u001b[1;32mif\u001b[0m \u001b[1;32mnot\u001b[0m \u001b[0mparams\u001b[0m\u001b[1;33m:\u001b[0m\u001b[1;33m\u001b[0m\u001b[0m\n\u001b[0;32m    848\u001b[0m             \u001b[1;32mreturn\u001b[0m\u001b[1;33m\u001b[0m\u001b[0m\n",
      "\u001b[1;31mException\u001b[0m: You called `set_weights(weights)` on layer \"convolution2d_11\" with a  weight list of length 64, but the layer was expecting 2 weights. Provided weights: [[[ 0.]]\n\n [[ 0.]]\n\n [[ 0.]]\n\n [[ 0.]]\n\n [[ 0.]]\n\n [[ 0.]]\n\n [[ 0.]]\n\n [[ 0.]]\n\n [[ 0.]]\n\n [[ 0.]]\n\n [[ 0.]]\n\n [[ 0.]]\n\n [[ 0.]]\n\n [[ 0.]]\n\n [[ 0.]]\n\n [[ 0.]]\n\n [[ 0.]]\n\n [[ 0.]]\n\n [[ 0.]]\n\n [[ 0.]]\n\n [[ 0.]]\n\n [[ 0.]]\n\n [[ 0.]]\n\n [[ 0.]]\n\n [[ 0.]]\n\n [[ 0.]]\n\n [[ 0.]]\n\n [[ 0.]]\n\n [[ 0.]]\n\n [[ 0.]]\n\n [[ 0.]]\n\n [[ 0.]]\n\n [[ 0.]]\n\n [[ 0.]]\n\n [[ 0.]]\n\n [[ 0.]]\n\n [[ 0.]]\n\n [[ 0.]]\n\n [[ 0.]]\n\n [[ 0.]]\n\n [[ 0.]]\n\n [[ 0.]]\n\n [[ 0.]]\n\n [[ 0.]]\n\n [[ 0.]]\n\n [[ 0.]]\n\n [[ 0.]]\n\n [[ 0.]]\n\n [[ 0.]]\n\n [[ 0.]]\n\n [[ 0.]]\n\n [[ 0.]]\n\n [[ 0.]]\n\n [[ 0.]]\n\n [[ 0.]]\n\n [[ 0.]]\n\n [[ 0.]]\n\n [[ 0.]]\n\n [[ 0.]]\n\n [[ 0.]]\n\n [[ 0.]]\n\n [[ 0.]]\n\n [[ 0.]]\n\n [[ 0.]]]"
     ]
    }
   ],
   "source": [
    "inputs = Input((1, 64, 64))\n",
    "dct_layer(inputs)"
   ]
  },
  {
   "cell_type": "code",
   "execution_count": null,
   "metadata": {
    "collapsed": true
   },
   "outputs": [],
   "source": []
  },
  {
   "cell_type": "code",
   "execution_count": null,
   "metadata": {
    "collapsed": true
   },
   "outputs": [],
   "source": []
  }
 ],
 "metadata": {
  "anaconda-cloud": {},
  "kernelspec": {
   "display_name": "Python [Root]",
   "language": "python",
   "name": "Python [Root]"
  },
  "language_info": {
   "codemirror_mode": {
    "name": "ipython",
    "version": 2
   },
   "file_extension": ".py",
   "mimetype": "text/x-python",
   "name": "python",
   "nbconvert_exporter": "python",
   "pygments_lexer": "ipython2",
   "version": "2.7.12"
  }
 },
 "nbformat": 4,
 "nbformat_minor": 0
}
